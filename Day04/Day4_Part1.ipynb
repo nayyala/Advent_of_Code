{
 "cells": [
  {
   "cell_type": "code",
   "execution_count": 345,
   "id": "6f6f1ada",
   "metadata": {},
   "outputs": [],
   "source": [
    "def string_extractor(s):\n",
    "    r = s.split(\" \")\n",
    "    r[-1] = r[-1].strip()\n",
    "    d = {}\n",
    "    score = 0\n",
    "    j = 0\n",
    "    while not r[j].isdigit():\n",
    "        j += 1\n",
    "    for i in range(j,len(r)):\n",
    "        if r[i] == ' ':\n",
    "            break\n",
    "        elif '|' not in d:\n",
    "            d[r[i]] = 1\n",
    "        else:\n",
    "            if r[i] in d and len(r[i]) > 0:\n",
    "                score += 1\n",
    "    return 0 if score == 0 else 2**(score-1)"
   ]
  },
  {
   "cell_type": "code",
   "execution_count": 346,
   "id": "19ea2617",
   "metadata": {},
   "outputs": [],
   "source": [
    "def main():\n",
    "    # Part 1\n",
    "    f = open(\"input.txt\", \"r\")\n",
    "    lines = f.readlines()\n",
    "    total_p1 = 0\n",
    "    for i in range(len(lines)):\n",
    "        total_p1 += string_extractor(lines[i])\n",
    "    return total_p1"
   ]
  },
  {
   "cell_type": "code",
   "execution_count": 347,
   "id": "56edf2f5",
   "metadata": {},
   "outputs": [
    {
     "name": "stdout",
     "output_type": "stream",
     "text": [
      "28538\n"
     ]
    }
   ],
   "source": [
    "print(main())"
   ]
  },
  {
   "cell_type": "code",
   "execution_count": null,
   "id": "fff3933b",
   "metadata": {},
   "outputs": [],
   "source": []
  }
 ],
 "metadata": {
  "kernelspec": {
   "display_name": "Python 3",
   "language": "python",
   "name": "python3"
  },
  "language_info": {
   "codemirror_mode": {
    "name": "ipython",
    "version": 3
   },
   "file_extension": ".py",
   "mimetype": "text/x-python",
   "name": "python",
   "nbconvert_exporter": "python",
   "pygments_lexer": "ipython3",
   "version": "3.8.8"
  }
 },
 "nbformat": 4,
 "nbformat_minor": 5
}
